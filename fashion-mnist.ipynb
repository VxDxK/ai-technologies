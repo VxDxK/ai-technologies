{
 "cells": [
  {
   "cell_type": "code",
   "execution_count": null,
   "id": "initial_id",
   "metadata": {
    "ExecuteTime": {
     "end_time": "2024-11-17T15:53:13.718963Z",
     "start_time": "2024-11-17T15:53:12.913546Z"
    }
   },
   "outputs": [],
   "source": [
    "import pandas as pd\n",
    "import matplotlib.pyplot as plt\n",
    "from PIL import Image\n",
    "import io\n",
    "import plotly.express as px\n",
    "from collections import Counter, defaultdict\n",
    "import numpy as np\n",
    "from IPython.display import display, HTML\n",
    "from plotly.subplots import make_subplots\n",
    "import plotly.graph_objects as go\n",
    "from sklearn.decomposition import PCA\n",
    "from sklearn.cluster import KMeans\n",
    "\n",
    "labels = {\n",
    "    0: 'T-shirt/top',\n",
    "    1: 'Trouser',\n",
    "    2: 'Pullover',\n",
    "    3: 'Dress',\n",
    "    4: 'Coat',\n",
    "    5: 'Sandal',\n",
    "    6: 'Shirt',\n",
    "    7: 'Sneaker',\n",
    "    8: 'Bag',\n",
    "    9: 'Ankle boot'\n",
    "}\n",
    "\n",
    "def load_image(image):\n",
    "    return Image.open(io.BytesIO(image['bytes']))\n",
    "\n",
    "def visualize_image(image, size=6):\n",
    "    plt.figure(figsize=(size, size))\n",
    "    plt.imshow(image)\n",
    "    plt.axis('off')  \n",
    "    plt.show()\n",
    "\n",
    "def build_heatmap(pixels_dict, func = np.median, title=\"\", size=28):\n",
    "    result_arr = []\n",
    "    for y in range(size):\n",
    "        line_arr = []\n",
    "        for x in range(size):\n",
    "            line_arr.append(func(pixels_dict[x, y]))\n",
    "        result_arr.append(line_arr)\n",
    "    fig = px.imshow(result_arr, zmin=0, zmax=1, color_continuous_scale='gray', title=title)\n",
    "    fig.update_layout(\n",
    "        width=500,\n",
    "        height=500,\n",
    "        margin=dict(\n",
    "            l=5,\n",
    "            r=5,\n",
    "            b=5,\n",
    "            t=40,\n",
    "            pad=4\n",
    "        ),\n",
    "        paper_bgcolor=\"LightSteelBlue\",\n",
    "    )\n",
    "    return fig\n",
    "\n",
    "def hheader(text, size=1):\n",
    "    return display(HTML(f\"<h{size}>{text}</h{size}>\"))"
   ]
  },
  {
   "cell_type": "code",
   "execution_count": null,
   "id": "c1415c539a01f936",
   "metadata": {
    "ExecuteTime": {
     "end_time": "2024-11-17T15:53:22.044255Z",
     "start_time": "2024-11-17T15:53:15.641440Z"
    }
   },
   "outputs": [],
   "source": [
    "splits = {'train': 'fashion_mnist/train-00000-of-00001.parquet', 'test': 'fashion_mnist/test-00000-of-00001.parquet'}\n",
    "train_df = pd.read_parquet(\"hf://datasets/zalando-datasets/fashion_mnist/\" + splits[\"train\"])\n",
    "test_df = pd.read_parquet(\"hf://datasets/zalando-datasets/fashion_mnist/\" + splits[\"test\"])"
   ]
  },
  {
   "cell_type": "code",
   "execution_count": null,
   "id": "3d1ab18b4d4304c4",
   "metadata": {
    "ExecuteTime": {
     "end_time": "2024-11-17T15:53:24.060050Z",
     "start_time": "2024-11-17T15:53:24.033209Z"
    }
   },
   "outputs": [],
   "source": [
    "train_df['named_label'] = train_df['label'].map(lambda x: labels[x])\n",
    "train_df['loaded_image'] = train_df['image'].map(lambda x: load_image(x))\n",
    "train_df['image_hash'] = train_df['image'].map(lambda x: hash(x['bytes']))\n",
    "\n",
    "\n",
    "# test_df['named_label'] = test_df['label'].map(lambda x: labels[x])\n",
    "train_df"
   ]
  },
  {
   "cell_type": "code",
   "execution_count": null,
   "id": "b8ae74abb9fae144",
   "metadata": {},
   "outputs": [],
   "source": [
    "hheader(\"Number of pictures in each category\")\n",
    "fig = px.histogram(train_df, x=\"named_label\", text_auto=True)\n",
    "fig.update_layout(\n",
    "    bargap=0.2,\n",
    "    title=\"Number pf pictures in each category\",\n",
    "    xaxis_title=\"Category\",\n",
    "    yaxis_title=\"Count\",\n",
    ")\n",
    "fig.show()\n",
    "\n",
    "fig = px.histogram(train_df.groupby('named_label')['image_hash'].nunique().reset_index(), x=\"named_label\", y='image_hash', text_auto=True)\n",
    "fig.update_layout(\n",
    "    bargap=0.2,\n",
    "    title=\"Number of unique pictures in each category\",\n",
    "    xaxis_title=\"Category\",\n",
    "    yaxis_title=\"Count\",\n",
    ")\n",
    "fig.show()\n"
   ]
  },
  {
   "cell_type": "code",
   "execution_count": null,
   "id": "e1d82e37-2def-49e5-896b-86d334c9ac8a",
   "metadata": {
    "scrolled": true
   },
   "outputs": [],
   "source": [
    "sizes = []\n",
    "for index, row in train_df.iterrows():\n",
    "    image = row['loaded_image']\n",
    "    x,y = image.size\n",
    "    sizes.append(f\"{x}x{y}\")\n",
    "size_count = Counter(sizes)\n",
    "fig = px.histogram(x=size_count.keys(), y=size_count.values(), text_auto=True)\n",
    "fig.update_layout(\n",
    "    title=\"Pictures size distribution\",\n",
    "    xaxis_title=\"Picture size, pixels\",\n",
    "    yaxis_title=\"Count\",\n",
    ")\n",
    "fig"
   ]
  },
  {
   "cell_type": "code",
   "execution_count": null,
   "id": "14a33b34-9fd2-420e-bf8b-4b37ead17450",
   "metadata": {
    "scrolled": true
   },
   "outputs": [],
   "source": [
    "pixel_dict = defaultdict(list)\n",
    "category_pixel_dict = defaultdict(lambda: defaultdict(list))\n",
    "for index, row in train_df.iterrows():\n",
    "    image = row['loaded_image']\n",
    "    width, height = image.size\n",
    "    pixels = image.load()\n",
    "    for y in range(height):\n",
    "        for x in range(width):\n",
    "            pixel = pixels[x, y] / 255\n",
    "            pixel_dict[x,y].append(pixel)\n",
    "            category_pixel_dict[row['label']][x, y].append(pixel)"
   ]
  },
  {
   "cell_type": "code",
   "execution_count": null,
   "id": "be0a060d-3fab-4b5a-8097-92af028cc14e",
   "metadata": {},
   "outputs": [],
   "source": [
    "hheader(\"Overall dataset heatmaps\")\n",
    "build_heatmap(pixel_dict, title=\"Overall heatmap with median values\").show()\n",
    "build_heatmap(pixel_dict, np.mean, title=\"Overall heatmap with mean values\").show()"
   ]
  },
  {
   "cell_type": "code",
   "execution_count": null,
   "id": "1ecc990d-86ff-4674-9f38-c8c68041e1f0",
   "metadata": {},
   "outputs": [],
   "source": [
    "hheader(f\"Label specific heatmaps\")\n",
    "for label_id, label_name in labels.items():\n",
    "    hheader(f\"Heatmaps for {label_name}\", 2)\n",
    "    build_heatmap(category_pixel_dict[label_id], title=\"Median heatmaps\").show()\n",
    "    build_heatmap(category_pixel_dict[label_id], np.mean, title=\"Mean heatmaps\").show()"
   ]
  },
  {
   "cell_type": "code",
   "execution_count": null,
   "id": "ff3281b6-5a9c-49ec-bff8-0a36da5f04c5",
   "metadata": {},
   "outputs": [],
   "source": [
    "hheader(\"Clustering\")\n",
    "images = [np.array(image).flatten() / 255 for image in train_df[\"loaded_image\"]]\n",
    "kmeans = KMeans(n_clusters=10, random_state=42)\n",
    "kmeans.fit(images)\n",
    "sk_labels = kmeans.labels_\n",
    "pca = PCA(n_components=2)\n",
    "X_pca = pca.fit_transform(images)\n",
    "clusted_df = pd.DataFrame(X_pca, columns=[\"PCA 1\", \"PCA 2\"])\n",
    "clusted_df['Cluster'] = sk_labels\n",
    "fig = px.scatter(clusted_df, x=\"PCA 1\", y=\"PCA 2\", color=\"Cluster\", title=\"K-means Clustering of Fashion MNIST\",\n",
    "                 color_continuous_scale='Viridis', \n",
    "                 labels={\"Cluster\": \"Cluster ID\"}, width=2000, height=2000)\n",
    "fig.update_traces(\n",
    "    marker=dict(size=5, opacity=0.6),\n",
    ")\n",
    "fig.show()\n",
    "\n",
    "hheader(\"Clusters research\", 2)\n",
    "cluster_to_orig = defaultdict(list)\n",
    "for i, orig_label in enumerate(train_df[\"label\"]):\n",
    "    cluster_label = sk_labels[i]\n",
    "    cluster_to_orig[int(cluster_label)].append(orig_label)\n",
    "\n",
    "for k, v in sorted(cluster_to_orig.items()):\n",
    "    full_dict = {lv: 0 for lk, lv in labels.items()}\n",
    "    for orig_label, count in sorted(dict(Counter(v)).items()):\n",
    "        full_dict[labels[orig_label]] += count\n",
    "    fig = px.bar(x=full_dict.keys(), y=full_dict.values(), text_auto=True)\n",
    "    fig.update_layout(\n",
    "        bargap=0.2,\n",
    "        title=f\"Cluster {k}\",\n",
    "        xaxis_title=\"Category\",\n",
    "        yaxis_title=\"Count\",\n",
    "    )\n",
    "    fig.show()"
   ]
  }
 ],
 "metadata": {
  "kernelspec": {
   "display_name": "Python 3 (ipykernel)",
   "language": "python",
   "name": "python3"
  },
  "language_info": {
   "codemirror_mode": {
    "name": "ipython",
    "version": 3
   },
   "file_extension": ".py",
   "mimetype": "text/x-python",
   "name": "python",
   "nbconvert_exporter": "python",
   "pygments_lexer": "ipython3",
   "version": "3.12.7"
  }
 },
 "nbformat": 4,
 "nbformat_minor": 5
}
